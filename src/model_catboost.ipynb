{
 "cells": [
  {
   "cell_type": "code",
   "execution_count": null,
   "metadata": {},
   "outputs": [],
   "source": [
    "from data import load_data\n",
    "from utils import MANUAL_SORT_COLS\n",
    "from utils import FILTER_VALS\n",
    "\n",
    "from sklearn.linear_model import LinearRegression\n",
    "from sklearn.model_selection import cross_validate\n",
    "\n",
    "import pandas as pd\n",
    "import numpy as np\n",
    "import seaborn as sns\n",
    "import seaborn.objects as so\n",
    "\n",
    "from sklearn.model_selection import LeaveOneOut\n",
    "from sklearn.metrics import mean_absolute_error, mean_squared_error, r2_score, explained_variance_score\n",
    "import catboost as cb\n",
    "from tqdm import tqdm\n",
    "\n",
    "import shap\n",
    "shap.initjs()"
   ]
  },
  {
   "cell_type": "code",
   "execution_count": null,
   "metadata": {},
   "outputs": [],
   "source": [
    "TARGET_COLUMNS = ['salary', 'bonus', 'received_equity']\n",
    "TIME_COLUMNS = ['timestamp']\n",
    "\n",
    "sns.set_theme(style=\"whitegrid\")"
   ]
  },
  {
   "cell_type": "code",
   "execution_count": null,
   "metadata": {},
   "outputs": [],
   "source": [
    "def feature_extraction(df, selected_cols=None, dropna=False):\n",
    "\n",
    "    df = df.copy()  # avoid unexpected side-effects\n",
    "\n",
    "    # Use a boolean variable to model whether the title has \"senior\" in it\n",
    "    df = (\n",
    "        df\n",
    "        .assign(\n",
    "            is_senior=lambda df: df.job_title.str.contains(\"Senior\"),\n",
    "            job_title_no_senior=lambda df: df.job_title.str.replace(\"Senior \", \"\"),\n",
    "            has_subordinates=lambda df: ~df.num_subordinates.isin([pd.NA, \"0\"]),\n",
    "            danish_national=lambda df: df.danish_national.replace(dict(YES=True, NO=False)),\n",
    "            is_male=lambda df: df.gender.replace(dict(male=True, female=False)),\n",
    "            received_equity=lambda df: df.received_equity.replace(dict(Yes=True, No=False))\n",
    "        )\n",
    "        .drop(columns=TIME_COLUMNS)\n",
    "        .drop(columns=[\"job_title\", \"gender\"])\n",
    "    )\n",
    "\n",
    "    selected_cols = selected_cols or df.drop(columns=TARGET_COLUMNS).columns.to_list()\n",
    "    df = df[[c for c in df.columns if c in selected_cols+TARGET_COLUMNS]]\n",
    "\n",
    "    if dropna:\n",
    "        df = df.dropna()\n",
    "\n",
    "    # X = df[selected_cols]\n",
    "    # y = df[TARGET_COLUMNS]\n",
    "\n",
    "    return df"
   ]
  },
  {
   "cell_type": "code",
   "execution_count": null,
   "metadata": {},
   "outputs": [],
   "source": [
    "df_raw = load_data(data_dir=\"../data\")\n",
    "df_raw.head()"
   ]
  },
  {
   "cell_type": "code",
   "execution_count": null,
   "metadata": {},
   "outputs": [],
   "source": [
    "df = df_raw.copy().replace(to_replace=FILTER_VALS, value=[\"unknown\"]*len(FILTER_VALS))"
   ]
  },
  {
   "cell_type": "code",
   "execution_count": null,
   "metadata": {},
   "outputs": [],
   "source": [
    "df = df[\n",
    "    (df.salary>=35_000)\n",
    "    & (df.salary<=80_000)\n",
    "]"
   ]
  },
  {
   "cell_type": "code",
   "execution_count": null,
   "metadata": {},
   "outputs": [],
   "source": [
    "df = feature_extraction(df=df, dropna=False)\n",
    "df = df.drop(columns=\"tool_usage\")\n",
    "df = df.reset_index(drop=True)"
   ]
  },
  {
   "cell_type": "code",
   "execution_count": null,
   "metadata": {},
   "outputs": [],
   "source": [
    "(\n",
    "    so.Plot(data=df, x=\"years_experience\", y=\"salary\")\n",
    "    .add(so.Dot(pointsize=3), so.Jitter(y=1_000, x=.5))\n",
    "    .theme({**sns.axes_style(\"whitegrid\"), \"grid.linestyle\": \":\"})\n",
    ")"
   ]
  },
  {
   "cell_type": "code",
   "execution_count": null,
   "metadata": {},
   "outputs": [],
   "source": [
    "sns.swarmplot(data=df, y=\"job_title_no_senior\", x=\"salary\", size=2)"
   ]
  },
  {
   "cell_type": "code",
   "execution_count": null,
   "metadata": {},
   "outputs": [],
   "source": [
    "sns.swarmplot(data=df, y=\"sector\", x=\"salary\", size=2)"
   ]
  },
  {
   "cell_type": "code",
   "execution_count": null,
   "metadata": {},
   "outputs": [],
   "source": [
    "sns.swarmplot(data=df, y=\"educational_background\", x=\"salary\", size=2)"
   ]
  },
  {
   "cell_type": "code",
   "execution_count": null,
   "metadata": {},
   "outputs": [],
   "source": [
    "X = df[[c for c in df.columns if c not in TARGET_COLUMNS]]\n",
    "y = df[\"salary\"]\n",
    "\n",
    "X.shape, y.shape"
   ]
  },
  {
   "cell_type": "code",
   "execution_count": null,
   "metadata": {},
   "outputs": [],
   "source": [
    "loo = LeaveOneOut()\n",
    "\n",
    "predictions = []\n",
    "\n",
    "for train_index, test_index in tqdm(loo.split(X)):\n",
    "    train_pool = cb.Pool(\n",
    "        X.iloc[train_index],\n",
    "        y.iloc[train_index],\n",
    "        cat_features=X.select_dtypes(exclude=np.number).columns.to_list()\n",
    "    )\n",
    "    test_pool = cb.Pool(\n",
    "        X.iloc[test_index],\n",
    "        y.iloc[test_index],\n",
    "        cat_features=X.select_dtypes(exclude=np.number).columns.to_list()\n",
    "    )\n",
    "\n",
    "    model = cb.CatBoostRegressor(\n",
    "        iterations=100,\n",
    "        depth=2,\n",
    "        loss_function='RMSE',\n",
    "        verbose=False)\n",
    "    model.fit(train_pool)\n",
    "    model.predict(test_pool)\n",
    "\n",
    "    predictions.append(\n",
    "        pd.merge(\n",
    "            X.iloc[test_index],\n",
    "            y.iloc[test_index],\n",
    "            left_index=True,\n",
    "            right_index=True\n",
    "        ).assign(\n",
    "            prediction=model.predict(test_pool)\n",
    "        )\n",
    "    )\n",
    "\n",
    "predictions = (\n",
    "    pd.concat(predictions, axis=0)\n",
    "    .assign(\n",
    "        delta=lambda df: df.prediction-df.salary,\n",
    "        error=lambda df: df.delta.abs()\n",
    "    )\n",
    ")\n",
    "predictions.head()"
   ]
  },
  {
   "cell_type": "code",
   "execution_count": null,
   "metadata": {},
   "outputs": [],
   "source": [
    "ax_min = pd.concat([predictions.salary, predictions.prediction], axis=0).min() - 5_000\n",
    "ax_max = pd.concat([predictions.salary, predictions.prediction], axis=0).max() + 5_000\n",
    "\n",
    "(\n",
    "    so.Plot(data=predictions, x=\"salary\", y=\"prediction\", color=\"error\")\n",
    "    .add(so.Dot(pointsize=4))\n",
    "    .scale(color=\"flare\")\n",
    "    .limit(x=(ax_min, ax_max), y=(ax_min, ax_max))\n",
    "    .theme({**sns.axes_style(\"whitegrid\"), \"grid.linestyle\": \":\"})\n",
    "    .layout(size=(8, 8))\n",
    "    .label(\n",
    "        title=dict(\n",
    "            MAE=round(mean_absolute_error(y_true=predictions.salary, y_pred=predictions.prediction),0),\n",
    "            RMSE=round(mean_squared_error(y_true=predictions.salary, y_pred=predictions.prediction, squared=False),0),\n",
    "            R2=round(r2_score(y_true=predictions.salary, y_pred=predictions.prediction),3),\n",
    "            EV=round(explained_variance_score(y_true=predictions.salary, y_pred=predictions.prediction),3),\n",
    "        )\n",
    "    )\n",
    ")"
   ]
  },
  {
   "cell_type": "code",
   "execution_count": null,
   "metadata": {},
   "outputs": [],
   "source": [
    "(\n",
    "    predictions\n",
    "    # .pipe(lambda df: df[df.error>10_000])\n",
    "    # [[\"salary\", \"prediction\", \"error\", \"years_experience\", \"is_senior\", \"job_title_no_senior\", \"sector\", \"has_subordinates\"]]\n",
    "    .sort_values(\"error\", ascending=False)\n",
    "    .round(2)\n",
    ")"
   ]
  },
  {
   "cell_type": "code",
   "execution_count": null,
   "metadata": {},
   "outputs": [],
   "source": [
    "final_pool = cb.Pool(\n",
    "    predictions.drop(columns=[\"salary\", \"prediction\", \"delta\", \"error\"]),\n",
    "    predictions[\"salary\"],\n",
    "    cat_features=X.select_dtypes(exclude=np.number).columns.to_list()\n",
    ")\n",
    "\n",
    "model = cb.CatBoostRegressor(\n",
    "    iterations=100,\n",
    "    depth=2,\n",
    "    loss_function='RMSE',\n",
    "    verbose=False)\n",
    "model.fit(final_pool)\n",
    "\n",
    "explainer = shap.TreeExplainer(model)\n",
    "shap_values = explainer.shap_values(final_pool)\n",
    "\n",
    "shap.summary_plot(shap_values, predictions.drop(columns=[\"salary\", \"prediction\", \"delta\", \"error\"]))"
   ]
  },
  {
   "cell_type": "code",
   "execution_count": null,
   "metadata": {},
   "outputs": [],
   "source": [
    "(\n",
    "    pd.DataFrame(dict(\n",
    "        importance=model.feature_importances_,\n",
    "        feature=final_pool.get_feature_names(),\n",
    "    ))\n",
    "    .sort_values(\"importance\")\n",
    "    .plot.barh(y=\"importance\", x=\"feature\")\n",
    ")"
   ]
  },
  {
   "cell_type": "code",
   "execution_count": null,
   "metadata": {},
   "outputs": [],
   "source": [
    "idx = predictions.sort_values(\"error\", ascending=False).iloc[0].name\n",
    "print(idx)\n",
    "print(f'actual salary: {predictions.loc[idx, \"salary\"]:,} DKK')\n",
    "\n",
    "shap.force_plot(\n",
    "    explainer.expected_value,\n",
    "    shap_values[idx,:],\n",
    "    predictions.loc[idx,:].drop([\"salary\", \"prediction\", \"delta\", \"error\"])\n",
    "    )"
   ]
  },
  {
   "cell_type": "code",
   "execution_count": null,
   "metadata": {},
   "outputs": [],
   "source": [
    "idx = predictions.sort_values(\"error\", ascending=False).iloc[1].name\n",
    "print(idx)\n",
    "print(f'actual salary: {predictions.loc[idx, \"salary\"]:,} DKK')\n",
    "\n",
    "shap.force_plot(\n",
    "    explainer.expected_value,\n",
    "    shap_values[idx,:],\n",
    "    predictions.loc[idx,:].drop([\"salary\", \"prediction\", \"delta\", \"error\"])\n",
    "    )"
   ]
  },
  {
   "cell_type": "code",
   "execution_count": null,
   "metadata": {},
   "outputs": [],
   "source": [
    "idx = predictions.sort_values(\"error\", ascending=False).iloc[2].name\n",
    "print(idx)\n",
    "print(f'actual salary: {predictions.loc[idx, \"salary\"]:,} DKK')\n",
    "\n",
    "shap.force_plot(\n",
    "    explainer.expected_value,\n",
    "    shap_values[idx,:],\n",
    "    predictions.loc[idx,:].drop([\"salary\", \"prediction\", \"delta\", \"error\"])\n",
    "    )"
   ]
  },
  {
   "cell_type": "code",
   "execution_count": null,
   "metadata": {},
   "outputs": [],
   "source": [
    "idx = predictions.sort_values(\"error\", ascending=False).iloc[3].name\n",
    "print(idx)\n",
    "print(f'actual salary: {predictions.loc[idx, \"salary\"]:,} DKK')\n",
    "\n",
    "shap.force_plot(\n",
    "    explainer.expected_value,\n",
    "    shap_values[idx,:],\n",
    "    predictions.loc[idx,:].drop([\"salary\", \"prediction\", \"delta\", \"error\"])\n",
    "    )"
   ]
  },
  {
   "cell_type": "code",
   "execution_count": null,
   "metadata": {},
   "outputs": [],
   "source": [
    "idx = predictions.sort_values(\"error\", ascending=False).iloc[4].name\n",
    "print(idx)\n",
    "print(f'actual salary: {predictions.loc[idx, \"salary\"]:,} DKK')\n",
    "\n",
    "shap.force_plot(\n",
    "    explainer.expected_value,\n",
    "    shap_values[idx,:],\n",
    "    predictions.loc[idx,:].drop([\"salary\", \"prediction\", \"delta\", \"error\"])\n",
    "    )"
   ]
  },
  {
   "cell_type": "code",
   "execution_count": null,
   "metadata": {},
   "outputs": [],
   "source": [
    "idx = predictions.sort_values(\"error\", ascending=False).iloc[5].name\n",
    "print(idx)\n",
    "print(f'actual salary: {predictions.loc[idx, \"salary\"]:,} DKK')\n",
    "\n",
    "shap.force_plot(\n",
    "    explainer.expected_value,\n",
    "    shap_values[idx,:],\n",
    "    predictions.loc[idx,:].drop([\"salary\", \"prediction\", \"delta\", \"error\"])\n",
    "    )"
   ]
  }
 ],
 "metadata": {
  "kernelspec": {
   "display_name": "Python 3",
   "language": "python",
   "name": "python3"
  },
  "language_info": {
   "codemirror_mode": {
    "name": "ipython",
    "version": 3
   },
   "file_extension": ".py",
   "mimetype": "text/x-python",
   "name": "python",
   "nbconvert_exporter": "python",
   "pygments_lexer": "ipython3",
   "version": "3.6.8"
  },
  "vscode": {
   "interpreter": {
    "hash": "6912246ac6cd111dcb3627dee021d3033b721ed69d0d6baba88440b100d61da2"
   }
  }
 },
 "nbformat": 4,
 "nbformat_minor": 2
}
